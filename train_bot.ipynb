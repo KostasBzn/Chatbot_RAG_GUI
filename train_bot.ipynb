{
 "cells": [
  {
   "cell_type": "code",
   "execution_count": null,
   "metadata": {},
   "outputs": [],
   "source": [
    "import os\n",
    "from dotenv import load_dotenv\n",
    "from langchain.text_splitter import RecursiveCharacterTextSplitter\n",
    "from langchain_huggingface import HuggingFaceEmbeddings\n",
    "from langchain.document_loaders import PyPDFLoader\n",
    "from langchain.vectorstores import FAISS\n"
   ]
  },
  {
   "cell_type": "code",
   "execution_count": null,
   "metadata": {},
   "outputs": [],
   "source": [
    "# Define paths and model names\n",
    "pdf_path = \"./data/ISLP_website.pdf\"\n",
    "embedding_model = \"sentence-transformers/all-MiniLM-l6-v2\"\n",
    "embeddings_folder = \"./content/\"  # Use \"./content/\" for local environments\n",
    "faiss_index_path = \"./content/faiss_index\""
   ]
  },
  {
   "cell_type": "code",
   "execution_count": null,
   "metadata": {},
   "outputs": [],
   "source": [
    "# Load and split documents\n",
    "loader = PyPDFLoader(pdf_path)\n",
    "documents = loader.load()\n",
    "text_splitter = RecursiveCharacterTextSplitter(chunk_size=800, chunk_overlap=150)\n",
    "docs = text_splitter.split_documents(documents)"
   ]
  },
  {
   "cell_type": "code",
   "execution_count": null,
   "metadata": {},
   "outputs": [],
   "source": [
    "# Initialize embeddings and create FAISS vector store\n",
    "embedding_model = \"sentence-transformers/all-MiniLM-l6-v2\"\n",
    "embeddings_folder = \"./content/\"\n",
    "\n",
    "embeddings = HuggingFaceEmbeddings(model_name=embedding_model,\n",
    "                                   cache_folder=embeddings_folder)\n",
    "vector_db = FAISS.from_documents(docs, embeddings)\n",
    "vector_db.save_local(faiss_index_path)\n",
    "print(f\"FAISS index saved to {faiss_index_path}\")"
   ]
  }
 ],
 "metadata": {
  "kernelspec": {
   "display_name": "py312env",
   "language": "python",
   "name": "python3"
  },
  "language_info": {
   "codemirror_mode": {
    "name": "ipython",
    "version": 3
   },
   "file_extension": ".py",
   "mimetype": "text/x-python",
   "name": "python",
   "nbconvert_exporter": "python",
   "pygments_lexer": "ipython3",
   "version": "3.12.7"
  }
 },
 "nbformat": 4,
 "nbformat_minor": 2
}
